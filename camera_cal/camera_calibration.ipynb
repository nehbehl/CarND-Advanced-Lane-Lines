{
 "cells": [
  {
   "cell_type": "code",
   "execution_count": 51,
   "metadata": {},
   "outputs": [],
   "source": [
    "import numpy as np\n",
    "import cv2\n",
    "import matplotlib.image as mpimg\n",
    "import matplotlib.pyplot as plt\n",
    "import glob\n",
    "import pickle\n",
    "\n",
    "def camera_calibration():\n",
    "\n",
    "    nx=9 #chessboard corners in x direction\n",
    "    ny=6 #chessboard corners in y direction\n",
    "    #initialize image points and object points\n",
    "    image_points=[]  #holds image points in 2D plane\n",
    "    object_points = [] #holds image points in 3D real world space\n",
    "\n",
    "    objp = np.zeros((ny*nx,3),np.float32)  #initialize the 3D points to all zeros\n",
    "    objp[:,:2]=np.mgrid[0:nx,0:ny].T.reshape(-1,2)  #set x and y points in real space\n",
    "\n",
    "    cal_images = glob.glob('./calibration*.jpg')  #fetch all image files for calibration\n",
    "\n",
    "    for index,fname in enumerate(cal_images):\n",
    "        cal_image=mpimg.imread(fname)   #read each image file\n",
    "        \n",
    "        #convert image to gray\n",
    "        gray=cv2.cvtColor(cal_image,cv2.COLOR_RGB2GRAY)\n",
    "        \n",
    "        #find chessboard corners\n",
    "        ret,corners = cv2.findChessboardCorners(gray,(nx,ny),None)\n",
    "        #if corners are found, add object points and image points\n",
    "        if ret==True:\n",
    "            object_points.append(objp)\n",
    "            image_points.append(corners)\n",
    "            \n",
    "            #draw and display the corners\n",
    "            cv2.drawChessboardCorners(cal_image,(nx,ny),corners,ret)\n",
    "            \n",
    "            write_name = './/output_images/corners_found' + str(index) + '.jpg'\n",
    "            #save the drawn chessboard corner image\n",
    "            cv2.imwrite(write_name,cal_image)\n",
    "            \n",
    "    #calibrate camera using image points and object points\n",
    "    ret, mtx, dist, rvecs, tvecs = cv2.calibrateCamera(object_points,image_points,gray.shape[::-1],None,None)\n",
    "\n",
    "    #save the retrieved camera matrix and distortion coefficients for later reference\n",
    "    dist_pickle = {}\n",
    "    dist_pickle[\"mtx\"] = mtx\n",
    "    dist_pickle[\"dist\"] = dist\n",
    "    pickle.dump(dist_pickle, open(\"./calibration_pickle.p\", \"wb\"))\n",
    "    \n",
    "    \n",
    "camera_calibration()   "
   ]
  }
 ],
 "metadata": {
  "kernelspec": {
   "display_name": "Python 3",
   "language": "python",
   "name": "python3"
  },
  "language_info": {
   "codemirror_mode": {
    "name": "ipython",
    "version": 3
   },
   "file_extension": ".py",
   "mimetype": "text/x-python",
   "name": "python",
   "nbconvert_exporter": "python",
   "pygments_lexer": "ipython3",
   "version": "3.8.3"
  }
 },
 "nbformat": 4,
 "nbformat_minor": 4
}
